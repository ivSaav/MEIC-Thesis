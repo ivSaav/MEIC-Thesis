{
 "cells": [
  {
   "cell_type": "code",
   "execution_count": 12,
   "metadata": {},
   "outputs": [],
   "source": [
    "from data.dataset import MULTI_VP_Dataset\n",
    "from pathlib import Path\n",
    "\n",
    "import torch\n",
    "from torch.utils.data import DataLoader\n",
    "\n",
    "\n",
    "class Options:\n",
    "    def __init__(self):\n",
    "        # Dataset\n",
    "        self.data_path = Path('./data/compiled/inputs.csv')\n",
    "        self.batch_size = 1\n",
    "        self.nworkers = 4\n",
    "        self.shuffle = True\n",
    "        self.drop_last = False\n",
    "        \n",
    "        self.ngpu = 1\n",
    "        \n",
    "opts = Options()"
   ]
  },
  {
   "attachments": {},
   "cell_type": "markdown",
   "metadata": {},
   "source": [
    "# Setup Dataset"
   ]
  },
  {
   "cell_type": "code",
   "execution_count": 11,
   "metadata": {},
   "outputs": [
    {
     "name": "stdout",
     "output_type": "stream",
     "text": [
      "Inputs shape: (11771, 1920)\n",
      "Inputs head: [[0.         0.50351482 0.50199591 ... 0.         0.         0.        ]\n",
      " [0.         0.62473908 0.62341197 ... 0.         0.         0.        ]\n",
      " [0.         0.73344247 0.73065724 ... 0.         0.         0.        ]\n",
      " [0.         0.38734226 0.38889801 ... 0.         0.         0.        ]\n",
      " [0.         0.63673264 0.63582892 ... 0.         0.         0.        ]]\n"
     ]
    }
   ],
   "source": [
    "dataset = MULTI_VP_Dataset(opts.data_path)\n",
    "dataloader = DataLoader(dataset, batch_size=opts.batch_size, shuffle=opts.shuffle, \n",
    "                        num_workers=opts.nworkers, drop_last=opts.drop_last)"
   ]
  },
  {
   "attachments": {},
   "cell_type": "markdown",
   "metadata": {},
   "source": [
    "# Models"
   ]
  },
  {
   "cell_type": "code",
   "execution_count": 13,
   "metadata": {},
   "outputs": [
    {
     "name": "stdout",
     "output_type": "stream",
     "text": [
      "Using device:  cuda:0\n"
     ]
    }
   ],
   "source": [
    "device = torch.device(\"cuda:0\" if torch.cuda.is_available() else \"cpu\")\n",
    "print(\"Using device: \", device)"
   ]
  }
 ],
 "metadata": {
  "kernelspec": {
   "display_name": "Python 3",
   "language": "python",
   "name": "python3"
  },
  "language_info": {
   "codemirror_mode": {
    "name": "ipython",
    "version": 3
   },
   "file_extension": ".py",
   "mimetype": "text/x-python",
   "name": "python",
   "nbconvert_exporter": "python",
   "pygments_lexer": "ipython3",
   "version": "3.10.9"
  },
  "orig_nbformat": 4,
  "vscode": {
   "interpreter": {
    "hash": "e7370f93d1d0cde622a1f8e1c04877d8463912d04d973331ad4851f04de6915a"
   }
  }
 },
 "nbformat": 4,
 "nbformat_minor": 2
}
